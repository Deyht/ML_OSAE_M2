{
  "cells": [
    {
      "cell_type": "markdown",
      "source": [
        "[![Open In Colab](https://colab.research.google.com/assets/colab-badge.svg)](https://colab.research.google.com/github/Deyht/AI_astro_ED_AAIF/blob/main/codes/CNN/classification/MNIST_TensorFlow.ipynb)"
      ],
      "metadata": {
        "id": "6blwlB2tBmSP"
      }
    },
    {
      "cell_type": "code",
      "execution_count": null,
      "metadata": {
        "colab": {
          "base_uri": "https://localhost:8080/"
        },
        "id": "EO6gdziDA3BZ",
        "outputId": "3ad891f9-0539-43a0-fccc-d2f6125020bf"
      },
      "outputs": [
        {
          "output_type": "stream",
          "name": "stdout",
          "text": [
            "--2024-02-27 10:06:22--  https://share.obspm.fr/s/dzLWSqqHoSnGJwS/download/mnist.tar.gz\n",
            "Resolving share.obspm.fr (share.obspm.fr)... 145.238.186.112\n",
            "Connecting to share.obspm.fr (share.obspm.fr)|145.238.186.112|:443... connected.\n",
            "HTTP request sent, awaiting response... 200 OK\n",
            "Length: 21762723 (21M) [application/gzip]\n",
            "Saving to: ‘mnist.tar.gz’\n",
            "\n",
            "mnist.tar.gz        100%[===================>]  20.75M  7.80MB/s    in 2.7s    \n",
            "\n",
            "2024-02-27 10:06:25 (7.80 MB/s) - ‘mnist.tar.gz’ saved [21762723/21762723]\n",
            "\n",
            "mnist_dat/\n",
            "mnist_dat/mnist_target.dat\n",
            "mnist_dat/mnist_input.dat\n"
          ]
        },
        {
          "output_type": "execute_result",
          "data": {
            "text/plain": []
          },
          "metadata": {},
          "execution_count": 1
        }
      ],
      "source": [
        "%%shell\n",
        "\n",
        "cd /content/\n",
        "\n",
        "wget https://share.obspm.fr/s/dzLWSqqHoSnGJwS/download/mnist.tar.gz\n",
        "\n",
        "tar -xvzf mnist.tar.gz"
      ]
    },
    {
      "cell_type": "code",
      "execution_count": null,
      "metadata": {
        "colab": {
          "base_uri": "https://localhost:8080/"
        },
        "id": "0T4_3ajxCrpR",
        "outputId": "a5de8d6e-1cfb-4cb1-b4a5-00749352e425"
      },
      "outputs": [
        {
          "output_type": "stream",
          "name": "stdout",
          "text": [
            "Reading inputs ... Done !\n"
          ]
        }
      ],
      "source": [
        "import numpy as np\n",
        "import matplotlib.pyplot as plt\n",
        "\n",
        "import matplotlib.pyplot as plt\n",
        "\n",
        "from tensorflow import keras\n",
        "from tensorflow.keras import layers\n",
        "from sklearn import metrics\n",
        "import tensorflow as tf\n",
        "\n",
        "\n",
        "print (\"Reading inputs ... \", end = \"\", flush=True)\n",
        "\n",
        "#Loading binary files\n",
        "data = np.fromfile(\"/content/mnist_dat/mnist_input.dat\", dtype=\"float32\")\n",
        "data = np.reshape(data, (80000,28,28))\n",
        "target = np.fromfile(\"/content/mnist_dat/mnist_target.dat\", dtype=\"float32\")\n",
        "target = np.reshape(target, (80000,10))\n",
        "\n",
        "\n",
        "data_train = data[:60000]\n",
        "data_valid = data[60000:70000]\n",
        "data_test  = data[70000:80000]\n",
        "\n",
        "target_train = target[:60000]\n",
        "target_valid = target[60000:70000]\n",
        "target_test  = target[70000:80000]\n",
        "\n",
        "print (\"Done !\", flush=True)"
      ]
    },
    {
      "cell_type": "code",
      "execution_count": null,
      "metadata": {
        "colab": {
          "base_uri": "https://localhost:8080/"
        },
        "id": "PclrAI6JwJ-m",
        "outputId": "3bfdbb12-2b93-4786-da66-c2c7950d3493"
      },
      "outputs": [
        {
          "output_type": "stream",
          "name": "stdout",
          "text": [
            "Epoch 1/20\n",
            "2500/2500 [==============================] - 17s 5ms/step - loss: 0.2011 - accuracy: 0.9370 - val_loss: 0.0470 - val_accuracy: 0.9848\n",
            "Epoch 2/20\n",
            "2500/2500 [==============================] - 11s 4ms/step - loss: 0.0731 - accuracy: 0.9780 - val_loss: 0.0426 - val_accuracy: 0.9867\n",
            "Epoch 3/20\n",
            "2500/2500 [==============================] - 10s 4ms/step - loss: 0.0570 - accuracy: 0.9834 - val_loss: 0.0336 - val_accuracy: 0.9894\n",
            "Epoch 4/20\n",
            "2500/2500 [==============================] - 10s 4ms/step - loss: 0.0453 - accuracy: 0.9868 - val_loss: 0.0378 - val_accuracy: 0.9891\n",
            "Epoch 5/20\n",
            "2500/2500 [==============================] - 11s 5ms/step - loss: 0.0422 - accuracy: 0.9880 - val_loss: 0.0359 - val_accuracy: 0.9892\n",
            "Epoch 6/20\n",
            "2500/2500 [==============================] - 11s 4ms/step - loss: 0.0361 - accuracy: 0.9891 - val_loss: 0.0375 - val_accuracy: 0.9887\n",
            "Epoch 7/20\n",
            "2500/2500 [==============================] - 11s 4ms/step - loss: 0.0331 - accuracy: 0.9900 - val_loss: 0.0340 - val_accuracy: 0.9901\n",
            "Epoch 8/20\n",
            "2500/2500 [==============================] - 11s 4ms/step - loss: 0.0280 - accuracy: 0.9913 - val_loss: 0.0315 - val_accuracy: 0.9914\n",
            "Epoch 9/20\n",
            "2500/2500 [==============================] - 11s 5ms/step - loss: 0.0280 - accuracy: 0.9921 - val_loss: 0.0405 - val_accuracy: 0.9884\n",
            "Epoch 10/20\n",
            "2500/2500 [==============================] - 11s 4ms/step - loss: 0.0259 - accuracy: 0.9928 - val_loss: 0.0343 - val_accuracy: 0.9902\n",
            "Epoch 11/20\n",
            "2500/2500 [==============================] - 11s 4ms/step - loss: 0.0250 - accuracy: 0.9926 - val_loss: 0.0297 - val_accuracy: 0.9921\n",
            "Epoch 12/20\n",
            "2500/2500 [==============================] - 11s 4ms/step - loss: 0.0231 - accuracy: 0.9933 - val_loss: 0.0342 - val_accuracy: 0.9907\n",
            "Epoch 13/20\n",
            "2500/2500 [==============================] - 10s 4ms/step - loss: 0.0227 - accuracy: 0.9931 - val_loss: 0.0361 - val_accuracy: 0.9909\n",
            "Epoch 14/20\n",
            "2500/2500 [==============================] - 11s 4ms/step - loss: 0.0190 - accuracy: 0.9945 - val_loss: 0.0350 - val_accuracy: 0.9916\n",
            "Epoch 15/20\n",
            "2500/2500 [==============================] - 11s 4ms/step - loss: 0.0227 - accuracy: 0.9934 - val_loss: 0.0375 - val_accuracy: 0.9908\n",
            "Epoch 16/20\n",
            "2500/2500 [==============================] - 11s 4ms/step - loss: 0.0177 - accuracy: 0.9944 - val_loss: 0.0390 - val_accuracy: 0.9908\n",
            "Epoch 17/20\n",
            "2500/2500 [==============================] - 11s 4ms/step - loss: 0.0198 - accuracy: 0.9947 - val_loss: 0.0405 - val_accuracy: 0.9905\n",
            "Epoch 18/20\n",
            "2500/2500 [==============================] - 11s 5ms/step - loss: 0.0174 - accuracy: 0.9949 - val_loss: 0.0424 - val_accuracy: 0.9920\n",
            "Epoch 19/20\n",
            "2500/2500 [==============================] - 11s 4ms/step - loss: 0.0202 - accuracy: 0.9944 - val_loss: 0.0312 - val_accuracy: 0.9916\n",
            "Epoch 20/20\n",
            "2500/2500 [==============================] - 11s 4ms/step - loss: 0.0177 - accuracy: 0.9950 - val_loss: 0.0351 - val_accuracy: 0.9916\n",
            "Model: \"sequential\"\n",
            "_________________________________________________________________\n",
            " Layer (type)                Output Shape              Param #   \n",
            "=================================================================\n",
            " zero_padding2d (ZeroPaddin  (None, 32, 32, 1)         0         \n",
            " g2D)                                                            \n",
            "                                                                 \n",
            " conv2d (Conv2D)             (None, 28, 28, 8)         208       \n",
            "                                                                 \n",
            " max_pooling2d (MaxPooling2  (None, 14, 14, 8)         0         \n",
            " D)                                                              \n",
            "                                                                 \n",
            " zero_padding2d_1 (ZeroPadd  (None, 18, 18, 8)         0         \n",
            " ing2D)                                                          \n",
            "                                                                 \n",
            " conv2d_1 (Conv2D)           (None, 14, 14, 16)        3216      \n",
            "                                                                 \n",
            " max_pooling2d_1 (MaxPoolin  (None, 7, 7, 16)          0         \n",
            " g2D)                                                            \n",
            "                                                                 \n",
            " flatten (Flatten)           (None, 784)               0         \n",
            "                                                                 \n",
            " dense (Dense)               (None, 256)               200960    \n",
            "                                                                 \n",
            " dropout (Dropout)           (None, 256)               0         \n",
            "                                                                 \n",
            " dense_1 (Dense)             (None, 128)               32896     \n",
            "                                                                 \n",
            " dropout_1 (Dropout)         (None, 128)               0         \n",
            "                                                                 \n",
            " dense_2 (Dense)             (None, 10)                1290      \n",
            "                                                                 \n",
            "=================================================================\n",
            "Total params: 238570 (931.91 KB)\n",
            "Trainable params: 238570 (931.91 KB)\n",
            "Non-trainable params: 0 (0.00 Byte)\n",
            "_________________________________________________________________\n",
            "None\n",
            "313/313 [==============================] - 1s 3ms/step - loss: 0.0351 - accuracy: 0.9916\n",
            "313/313 [==============================] - 1s 2ms/step\n",
            "[[ 977    0    1    0    0    0    1    1    0    0]\n",
            " [   0 1128    0    3    0    0    1    1    2    0]\n",
            " [   0    1 1026    1    0    0    0    4    0    0]\n",
            " [   0    0    1 1003    0    2    0    2    2    0]\n",
            " [   0    0    2    0  974    0    1    0    1    4]\n",
            " [   0    0    0    7    0  884    1    0    0    0]\n",
            " [   5    2    1    0    3    4  940    0    3    0]\n",
            " [   0    2    1    0    0    0    0 1021    1    3]\n",
            " [   3    0    1    1    0    1    0    0  968    0]\n",
            " [   0    0    0    0    5    1    0    5    3  995]]\n"
          ]
        }
      ],
      "source": [
        "######################### ##########################\n",
        "#         Loading the neural network model\n",
        "######################### ##########################\n",
        "\n",
        "model = keras.Sequential()\n",
        "\n",
        "\n",
        "model.add(layers.ZeroPadding2D(padding=(2, 2), input_shape=(28,28,1)))\n",
        "model.add(layers.Conv2D(filters=8, kernel_size=(5, 5), activation='relu'))\n",
        "model.add(layers.MaxPooling2D())\n",
        "\n",
        "model.add(layers.ZeroPadding2D(padding=(2, 2)))\n",
        "model.add(layers.Conv2D(filters=16, kernel_size=(5, 5), activation='relu'))\n",
        "model.add(layers.MaxPooling2D())\n",
        "\n",
        "model.add(layers.Flatten())\n",
        "\n",
        "model.add(layers.Dense(units=256, activation='relu'))\n",
        "model.add(layers.Dropout(0.5))\n",
        "model.add(layers.Dense(units=128, activation='relu'))\n",
        "model.add(layers.Dropout(0.2))\n",
        "model.add(layers.Dense(units=10, activation = 'softmax'))\n",
        "\n",
        "model.compile(optimizer = 'adam', loss = 'categorical_crossentropy', metrics = ['accuracy'])\n",
        "\n",
        "\n",
        "######################### ##########################\n",
        "#                 Network training\n",
        "######################### ##########################\n",
        "\n",
        "model.fit(data_train, target_train, batch_size=24, epochs=20, shuffle=True,  validation_split=0.0, validation_data=(data_valid, target_valid))\n",
        "\n",
        "print(model.summary())\n",
        "\n",
        "######################### ##########################\n",
        "#            Evaluate the network prediction\n",
        "######################### ##########################\n",
        "\n",
        "model.evaluate(data_test, target_test)\n",
        "\n",
        "pred = model.predict(data_test)\n",
        "\n",
        "\n",
        "matrix = metrics.confusion_matrix(target_test.argmax(axis=1), pred.argmax(axis=1))\n",
        "\n",
        "print (matrix)\n",
        "\n",
        "\n"
      ]
    }
  ],
  "metadata": {
    "accelerator": "GPU",
    "colab": {
      "provenance": []
    },
    "gpuClass": "standard",
    "kernelspec": {
      "display_name": "Python 3 (ipykernel)",
      "language": "python",
      "name": "python3"
    },
    "language_info": {
      "codemirror_mode": {
        "name": "ipython",
        "version": 3
      },
      "file_extension": ".py",
      "mimetype": "text/x-python",
      "name": "python",
      "nbconvert_exporter": "python",
      "pygments_lexer": "ipython3",
      "version": "3.10.6"
    }
  },
  "nbformat": 4,
  "nbformat_minor": 0
}
